{
 "cells": [
  {
   "cell_type": "code",
   "execution_count": null,
   "id": "9c951a51",
   "metadata": {},
   "outputs": [],
   "source": [
    "from canvasapi import Canvas"
   ]
  },
  {
   "cell_type": "code",
   "execution_count": null,
   "id": "f45d3cce",
   "metadata": {},
   "outputs": [],
   "source": [
    "API_URL = \"https://utah.instructure.com/\"\n",
    "API_KEY = \"2~z7XFTSQTYiTk7Moy2MIBjZNS6FhFoxJg4ecbVeG1XuEpa5ufGI9G9K7B5Q0BKf9O\"\n",
    "\n",
    "canvas = Canvas(API_URL, API_KEY)"
   ]
  },
  {
   "cell_type": "code",
   "execution_count": null,
   "id": "d5e357fe",
   "metadata": {},
   "outputs": [],
   "source": [
    "course = canvas.get_course(762523)\n",
    "course.name"
   ]
  },
  {
   "cell_type": "code",
   "execution_count": 1,
   "id": "6bec3e06",
   "metadata": {},
   "outputs": [
    {
     "data": {
      "text/plain": [
       "<Response [401]>"
      ]
     },
     "execution_count": 1,
     "metadata": {},
     "output_type": "execute_result"
    }
   ],
   "source": [
    "# this code accesses the canvas api and extracts every file whose id is included in the \n",
    "import requests\n",
    "import json\n",
    "import re\n",
    "\n",
    "# the api address\n",
    "data_endpt = \"https://utah.instructure.com/api/v1/courses/762523?access_token=<2~d6tNMYbLlDJyrW4DklB51cz0O2RQstY5cNN8ZTD9ztKDrk8QyVEdmP1tUuFHp6e1>\"\n",
    "\n",
    "#accessing the api and extracting the files\n",
    "response = requests.get(data_endpt, \n",
    "                        headers={\n",
    "                            \"Content-Type\": \"application/json\"\n",
    "                            })\n",
    "\n",
    "response\n",
    "# The file name can be found in the header within the Content-Disposition key provided by the api.\n",
    "#response_head_cd = response.headers[\"Content-Disposition\"]"
   ]
  },
  {
   "cell_type": "code",
   "execution_count": 2,
   "id": "7d5fe57d",
   "metadata": {},
   "outputs": [
    {
     "data": {
      "text/plain": [
       "b'{\"errors\":[{\"message\":\"Invalid access token.\"}]}'"
      ]
     },
     "execution_count": 2,
     "metadata": {},
     "output_type": "execute_result"
    }
   ],
   "source": [
    "response.content"
   ]
  },
  {
   "cell_type": "code",
   "execution_count": null,
   "id": "9cc30f12",
   "metadata": {},
   "outputs": [],
   "source": []
  }
 ],
 "metadata": {
  "kernelspec": {
   "display_name": "Python 3",
   "language": "python",
   "name": "python3"
  },
  "language_info": {
   "codemirror_mode": {
    "name": "ipython",
    "version": 3
   },
   "file_extension": ".py",
   "mimetype": "text/x-python",
   "name": "python",
   "nbconvert_exporter": "python",
   "pygments_lexer": "ipython3",
   "version": "3.8.8"
  }
 },
 "nbformat": 4,
 "nbformat_minor": 5
}
