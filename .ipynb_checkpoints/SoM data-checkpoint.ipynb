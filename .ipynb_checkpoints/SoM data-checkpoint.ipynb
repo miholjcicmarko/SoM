{
 "cells": [
  {
   "cell_type": "code",
   "execution_count": null,
   "id": "ed81a675",
   "metadata": {},
   "outputs": [],
   "source": [
    "import pandas as pd"
   ]
  },
  {
   "cell_type": "code",
   "execution_count": null,
   "id": "2a247959",
   "metadata": {},
   "outputs": [],
   "source": [
    "data = pd.read_csv('Trans_Course_Demos.1 (1).csv')\n",
    "data"
   ]
  },
  {
   "cell_type": "code",
   "execution_count": null,
   "id": "de8c7ef8",
   "metadata": {},
   "outputs": [],
   "source": [
    "data.columns"
   ]
  },
  {
   "cell_type": "code",
   "execution_count": null,
   "id": "36feb197",
   "metadata": {},
   "outputs": [],
   "source": [
    "data = pd.DataFrame()\n",
    "data[\"PIFID\"] = [\"moontreemidwifery@gmail.com\", \"allie.evans@hsc.utah.edu\", \"bailey.jones@hsc.utah.edu\"]\n",
    "data[\"ER5\"] = [21040716, 21040718, 21040719]\n",
    "data[\"PIFDATE\"] = [\"10/29/2021 19:46:08\", \"11/03/2021 19:15:49\", \"11/05/2021 19:15:49\"]\n",
    "data['City'] = [\"Sandy\", \"Salt Lake City\", \"Logan\"]\n",
    "data[\"State\"] = [\"UT\", \"UT\", \"UT\"]\n",
    "data[\"Registration Zip\"] = [84109, 84109, 84109]\n",
    "data[\"Years in HIV Care\"] = [1,2, 3]\n",
    "data[\"PIF3\"] = [17,18, 1]\n",
    "data[\"PIF4\"] = [4,14, 1]\n",
    "data[\"PIF5\"] = [0,0, 1]\n",
    "data[\"PIF601\"] = [0,0,0]\n",
    "data[\"PIF602\"] = [0,0,0]\n",
    "data[\"PIF603\"] = [1,1,0]\n",
    "data[\"PIF604\"] = [0,0,0]\n",
    "data[\"PIF605\"] = [0,0,0]\n",
    "data[\"PIF7\"] = [3,9,1]\n",
    "data[\"PIF8\"] = [8,23, 1]\n",
    "data[\"PIF901\"] = [84109, 84109, 84109]\n",
    "data[\"PIF902\"] = [float(\"NaN\"), float(\"NaN\"), float(\"NaN\")]\n",
    "data[\"PIF903\"] = [float(\"NaN\"), float(\"NaN\"), float(\"NaN\")]\n",
    "data[\"PIF10\"] = [0,0, 0]\n",
    "data[\"PIF11\"] = [0,0,0]\n",
    "data[\"PIF3_Specify_OtherAllied\"] = [\"Surgical Tech\",float(\"NaN\"), float(\"NaN\")]\n",
    "data[\"PIF3_Specify_OtherNonClinical\"] = [float(\"NaN\"),\"Front Desk Receptionist\", float(\"NaN\")]\n",
    "data[\"PIF4_Specify\"] = [float(\"NaN\"),\"Continuing Education Student\", float(\"NaN\")]\n",
    "data[\"PIF12\"] = [0,0, 1]\n",
    "data[\"PIF13\"] = [0,0, 9]\n",
    "data[\"PIF14\"] = [0,0, 1]\n",
    "data[\"PIF15\"] = [0,1, 0]\n",
    "data[\"PIF16\"] = [float(\"NaN\"),1, float(\"NaN\")]\n",
    "data[\"PIF17\"] = [float(\"NaN\"),3, float(\"NaN\")]\n",
    "data[\"PIF18\"] = [float(\"NaN\"),44, float(\"NaN\")]\n",
    "data[\"PIF19\"] = [float(\"NaN\"),3, float(\"NaN\")]\n",
    "data[\"PIF20\"] = [float(\"NaN\"),3, float(\"NaN\")]\n",
    "data[\"PIF21\"] = [float(\"NaN\"),3, float(\"NaN\")]\n",
    "data[\"PIF22\"] = [float(\"NaN\"),3, float(\"NaN\")]\n",
    "data[\"PIF23\"] = [float(\"NaN\"),3, float(\"NaN\")]\n",
    "data"
   ]
  },
  {
   "cell_type": "code",
   "execution_count": null,
   "id": "9ce46fbe",
   "metadata": {},
   "outputs": [],
   "source": [
    "data.dtypes"
   ]
  },
  {
   "cell_type": "code",
   "execution_count": null,
   "id": "7fdabf14",
   "metadata": {},
   "outputs": [],
   "source": [
    "pif_id = data[\"PIFID\"]\n",
    "data = data.drop(\"PIFID\", axis = 1)\n",
    "data[\"PIFID\"] = pif_id\n",
    "data"
   ]
  },
  {
   "cell_type": "code",
   "execution_count": null,
   "id": "cfe0b7c9",
   "metadata": {},
   "outputs": [],
   "source": [
    "for i in range(len(data.columns)):\n",
    "    if data.dtypes[i] == \"object\" and i != 0:\n",
    "        data = data.rename(columns={data.columns[i]: data.columns[i]+\"Categ\"})\n",
    "    elif i == 0:\n",
    "        data = data.rename(columns={data.columns[i]: \"ID\"})\n",
    "data"
   ]
  },
  {
   "cell_type": "code",
   "execution_count": null,
   "id": "4ad7c2da",
   "metadata": {},
   "outputs": [],
   "source": [
    "for i in range(len(data)):\n",
    "    data[\"PIFDATECateg\"][i] = data[\"PIFDATECateg\"][i][:8]\n",
    "data"
   ]
  },
  {
   "cell_type": "code",
   "execution_count": null,
   "id": "297efd82",
   "metadata": {},
   "outputs": [],
   "source": [
    "data['ID'] = 'id' + data['ID'].astype(str)"
   ]
  },
  {
   "cell_type": "code",
   "execution_count": null,
   "id": "de8da55e",
   "metadata": {},
   "outputs": [],
   "source": [
    "data.dtypes"
   ]
  },
  {
   "cell_type": "code",
   "execution_count": null,
   "id": "2deec0ca",
   "metadata": {},
   "outputs": [],
   "source": [
    "data.to_csv(\"FakeData2.csv\", index = False)"
   ]
  },
  {
   "cell_type": "code",
   "execution_count": null,
   "id": "347dfb32",
   "metadata": {},
   "outputs": [],
   "source": [
    "for i in range(len(data.iloc[0])):\n",
    "    print(data.columns[i])\n",
    "    print(data.iloc[0][i])"
   ]
  },
  {
   "cell_type": "code",
   "execution_count": null,
   "id": "28257f50",
   "metadata": {},
   "outputs": [],
   "source": [
    "data = pd.read_csv('data/demo.csv')"
   ]
  },
  {
   "cell_type": "code",
   "execution_count": null,
   "id": "0193be63",
   "metadata": {},
   "outputs": [],
   "source": [
    "data[\"Age\"] = [25,23,30,19,25,37,43,32]"
   ]
  },
  {
   "cell_type": "code",
   "execution_count": null,
   "id": "8dc223bf",
   "metadata": {},
   "outputs": [],
   "source": [
    "data"
   ]
  },
  {
   "cell_type": "code",
   "execution_count": null,
   "id": "de017ff4",
   "metadata": {},
   "outputs": [],
   "source": [
    "data.to_csv(\"FakeSoMData.csv\", index = False)"
   ]
  },
  {
   "cell_type": "code",
   "execution_count": null,
   "id": "69fd2409",
   "metadata": {},
   "outputs": [],
   "source": []
  }
 ],
 "metadata": {
  "kernelspec": {
   "display_name": "Python 3",
   "language": "python",
   "name": "python3"
  },
  "language_info": {
   "codemirror_mode": {
    "name": "ipython",
    "version": 3
   },
   "file_extension": ".py",
   "mimetype": "text/x-python",
   "name": "python",
   "nbconvert_exporter": "python",
   "pygments_lexer": "ipython3",
   "version": "3.8.8"
  }
 },
 "nbformat": 4,
 "nbformat_minor": 5
}
