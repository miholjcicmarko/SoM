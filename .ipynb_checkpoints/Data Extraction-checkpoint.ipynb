{
 "cells": [
  {
   "cell_type": "code",
   "execution_count": null,
   "id": "a18061bc",
   "metadata": {},
   "outputs": [],
   "source": [
    "!pip3 install canvasapi"
   ]
  },
  {
   "cell_type": "code",
   "execution_count": 12,
   "id": "9c951a51",
   "metadata": {},
   "outputs": [],
   "source": [
    "from canvasapi import Canvas"
   ]
  },
  {
   "cell_type": "code",
   "execution_count": 18,
   "id": "f45d3cce",
   "metadata": {},
   "outputs": [],
   "source": [
    "API_URL = \"https://utah.instructure.com/\"\n",
    "API_KEY = \"2~z7XFTSQTYiTk7Moy2MIBjZNS6FhFoxJg4ecbVeG1XuEpa5ufGI9G9K7B5Q0BKf9O\"\n",
    "\n",
    "canvas = Canvas(API_URL, API_KEY)"
   ]
  },
  {
   "cell_type": "code",
   "execution_count": 19,
   "id": "d5e357fe",
   "metadata": {},
   "outputs": [
    {
     "ename": "InvalidAccessToken",
     "evalue": "[{'message': 'Invalid access token.'}]",
     "output_type": "error",
     "traceback": [
      "\u001b[0;31m---------------------------------------------------------------------------\u001b[0m",
      "\u001b[0;31mInvalidAccessToken\u001b[0m                        Traceback (most recent call last)",
      "\u001b[0;32m<ipython-input-19-90897e63fdfc>\u001b[0m in \u001b[0;36m<module>\u001b[0;34m\u001b[0m\n\u001b[0;32m----> 1\u001b[0;31m \u001b[0mcourse\u001b[0m \u001b[0;34m=\u001b[0m \u001b[0mcanvas\u001b[0m\u001b[0;34m.\u001b[0m\u001b[0mget_course\u001b[0m\u001b[0;34m(\u001b[0m\u001b[0;36m762523\u001b[0m\u001b[0;34m)\u001b[0m\u001b[0;34m\u001b[0m\u001b[0;34m\u001b[0m\u001b[0m\n\u001b[0m\u001b[1;32m      2\u001b[0m \u001b[0mcourse\u001b[0m\u001b[0;34m.\u001b[0m\u001b[0mname\u001b[0m\u001b[0;34m\u001b[0m\u001b[0;34m\u001b[0m\u001b[0m\n",
      "\u001b[0;32m/opt/anaconda3/lib/python3.8/site-packages/canvasapi/canvas.py\u001b[0m in \u001b[0;36mget_course\u001b[0;34m(self, course, use_sis_id, **kwargs)\u001b[0m\n\u001b[1;32m    677\u001b[0m             \u001b[0muri_str\u001b[0m \u001b[0;34m=\u001b[0m \u001b[0;34m\"courses/{}\"\u001b[0m\u001b[0;34m\u001b[0m\u001b[0;34m\u001b[0m\u001b[0m\n\u001b[1;32m    678\u001b[0m \u001b[0;34m\u001b[0m\u001b[0m\n\u001b[0;32m--> 679\u001b[0;31m         response = self.__requester.request(\n\u001b[0m\u001b[1;32m    680\u001b[0m             \u001b[0;34m\"GET\"\u001b[0m\u001b[0;34m,\u001b[0m \u001b[0muri_str\u001b[0m\u001b[0;34m.\u001b[0m\u001b[0mformat\u001b[0m\u001b[0;34m(\u001b[0m\u001b[0mcourse_id\u001b[0m\u001b[0;34m)\u001b[0m\u001b[0;34m,\u001b[0m \u001b[0m_kwargs\u001b[0m\u001b[0;34m=\u001b[0m\u001b[0mcombine_kwargs\u001b[0m\u001b[0;34m(\u001b[0m\u001b[0;34m**\u001b[0m\u001b[0mkwargs\u001b[0m\u001b[0;34m)\u001b[0m\u001b[0;34m\u001b[0m\u001b[0;34m\u001b[0m\u001b[0m\n\u001b[1;32m    681\u001b[0m         )\n",
      "\u001b[0;32m/opt/anaconda3/lib/python3.8/site-packages/canvasapi/requester.py\u001b[0m in \u001b[0;36mrequest\u001b[0;34m(self, method, endpoint, headers, use_auth, _url, _kwargs, json, **kwargs)\u001b[0m\n\u001b[1;32m    239\u001b[0m         \u001b[0;32melif\u001b[0m \u001b[0mresponse\u001b[0m\u001b[0;34m.\u001b[0m\u001b[0mstatus_code\u001b[0m \u001b[0;34m==\u001b[0m \u001b[0;36m401\u001b[0m\u001b[0;34m:\u001b[0m\u001b[0;34m\u001b[0m\u001b[0;34m\u001b[0m\u001b[0m\n\u001b[1;32m    240\u001b[0m             \u001b[0;32mif\u001b[0m \u001b[0;34m\"WWW-Authenticate\"\u001b[0m \u001b[0;32min\u001b[0m \u001b[0mresponse\u001b[0m\u001b[0;34m.\u001b[0m\u001b[0mheaders\u001b[0m\u001b[0;34m:\u001b[0m\u001b[0;34m\u001b[0m\u001b[0;34m\u001b[0m\u001b[0m\n\u001b[0;32m--> 241\u001b[0;31m                 \u001b[0;32mraise\u001b[0m \u001b[0mInvalidAccessToken\u001b[0m\u001b[0;34m(\u001b[0m\u001b[0mresponse\u001b[0m\u001b[0;34m.\u001b[0m\u001b[0mjson\u001b[0m\u001b[0;34m(\u001b[0m\u001b[0;34m)\u001b[0m\u001b[0;34m)\u001b[0m\u001b[0;34m\u001b[0m\u001b[0;34m\u001b[0m\u001b[0m\n\u001b[0m\u001b[1;32m    242\u001b[0m             \u001b[0;32melse\u001b[0m\u001b[0;34m:\u001b[0m\u001b[0;34m\u001b[0m\u001b[0;34m\u001b[0m\u001b[0m\n\u001b[1;32m    243\u001b[0m                 \u001b[0;32mraise\u001b[0m \u001b[0mUnauthorized\u001b[0m\u001b[0;34m(\u001b[0m\u001b[0mresponse\u001b[0m\u001b[0;34m.\u001b[0m\u001b[0mjson\u001b[0m\u001b[0;34m(\u001b[0m\u001b[0;34m)\u001b[0m\u001b[0;34m)\u001b[0m\u001b[0;34m\u001b[0m\u001b[0;34m\u001b[0m\u001b[0m\n",
      "\u001b[0;31mInvalidAccessToken\u001b[0m: [{'message': 'Invalid access token.'}]"
     ]
    }
   ],
   "source": [
    "course = canvas.get_course(762523)\n",
    "course.name"
   ]
  },
  {
   "cell_type": "code",
   "execution_count": 10,
   "id": "6bec3e06",
   "metadata": {},
   "outputs": [
    {
     "data": {
      "text/plain": [
       "<Response [401]>"
      ]
     },
     "execution_count": 10,
     "metadata": {},
     "output_type": "execute_result"
    }
   ],
   "source": [
    "# this code accesses the canvas api and extracts every file whose id is included in the \n",
    "import requests\n",
    "import json\n",
    "import re\n",
    "\n",
    "# the api address\n",
    "data_endpt = \"https://utah.instructure.com/api/v1/courses/762523/students\"\n",
    "\n",
    "#ids = ids_api\n",
    "\n",
    "# placing the array of ids into the api\n",
    "#params = {\"ids\": ids}\n",
    "\n",
    "#accessing the api and extracting the files\n",
    "#response = requests.post(data_endpt,\n",
    "#                        data = json.dumps(params),\n",
    "#                        headers={\n",
    "#                            \"Content-Type\": \"application/json\"\n",
    "#                            })\n",
    "\n",
    "#accessing the api and extracting the files\n",
    "response = requests.get(data_endpt, \n",
    "                        headers={\n",
    "                            \"Content-Type\": \"application/json\"\n",
    "                            })\n",
    "\n",
    "response\n",
    "# The file name can be found in the header within the Content-Disposition key provided by the api.\n",
    "#response_head_cd = response.headers[\"Content-Disposition\"]\n",
    "\n",
    "#file_name = re.findall(\"filename=(.+)\", response_head_cd)[0]\n",
    "\n",
    "#with open(file_name, \"wb\") as output_file:\n",
    "#    output_file.write(response.content)"
   ]
  },
  {
   "cell_type": "code",
   "execution_count": 11,
   "id": "7d5fe57d",
   "metadata": {},
   "outputs": [
    {
     "data": {
      "text/plain": [
       "'{\"status\":\"unauthenticated\",\"errors\":[{\"message\":\"user authorization required\"}]}'"
      ]
     },
     "execution_count": 11,
     "metadata": {},
     "output_type": "execute_result"
    }
   ],
   "source": [
    "response.text"
   ]
  },
  {
   "cell_type": "code",
   "execution_count": null,
   "id": "1d47cd7e",
   "metadata": {},
   "outputs": [],
   "source": []
  }
 ],
 "metadata": {
  "kernelspec": {
   "display_name": "Python 3",
   "language": "python",
   "name": "python3"
  },
  "language_info": {
   "codemirror_mode": {
    "name": "ipython",
    "version": 3
   },
   "file_extension": ".py",
   "mimetype": "text/x-python",
   "name": "python",
   "nbconvert_exporter": "python",
   "pygments_lexer": "ipython3",
   "version": "3.8.8"
  }
 },
 "nbformat": 4,
 "nbformat_minor": 5
}
